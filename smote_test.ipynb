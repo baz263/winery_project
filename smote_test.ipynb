{
 "cells": [
  {
   "cell_type": "code",
   "execution_count": 35,
   "metadata": {},
   "outputs": [],
   "source": [
    "#import pandas and numpy\n",
    "import pandas as pd\n",
    "import numpy as np"
   ]
  },
  {
   "cell_type": "code",
   "execution_count": 36,
   "metadata": {},
   "outputs": [],
   "source": [
    "#import LogisticRegression\n",
    "from sklearn.linear_model import LogisticRegression\n"
   ]
  },
  {
   "cell_type": "code",
   "execution_count": 37,
   "metadata": {},
   "outputs": [],
   "source": [
    "#import Kfold\n",
    "from sklearn.model_selection import StratifiedKFold\n",
    "from sklearn.metrics import *\n"
   ]
  },
  {
   "cell_type": "code",
   "execution_count": 38,
   "metadata": {},
   "outputs": [],
   "source": [
    "#plotting\n",
    "import matplotlib.pyplot as plt\n",
    "import seaborn as sns\n"
   ]
  },
  {
   "cell_type": "code",
   "execution_count": 39,
   "metadata": {},
   "outputs": [],
   "source": [
    "# import train_test_split\n",
    "from sklearn.model_selection import train_test_split\n",
    "from sklearn.model_selection import StratifiedKFold, cross_val_predict\n",
    "\n"
   ]
  },
  {
   "cell_type": "code",
   "execution_count": 40,
   "metadata": {},
   "outputs": [],
   "source": [
    "from imblearn.over_sampling import SMOTE\n"
   ]
  },
  {
   "cell_type": "code",
   "execution_count": 41,
   "metadata": {},
   "outputs": [],
   "source": [
    "#import RandomForestClassifier\n",
    "from sklearn.ensemble import RandomForestClassifier\n"
   ]
  },
  {
   "cell_type": "code",
   "execution_count": 42,
   "metadata": {},
   "outputs": [],
   "source": [
    "#set viewing options\n",
    "pd.set_option('display.width', 1000)  # Set the maximum width of the display\n",
    "pd.set_option('display.max_columns', None)  # Display all columns without truncation\n",
    "np.set_printoptions(linewidth=150)"
   ]
  },
  {
   "cell_type": "code",
   "execution_count": 43,
   "metadata": {},
   "outputs": [],
   "source": [
    "X_df = pd.read_csv('X_df_normalized.csv', sep= ',')\n",
    "y_df = pd.read_csv('y_df.csv', sep = ',')\n",
    "whole_csv = pd.read_csv('whole_csv.csv')\n",
    "X_df['wine_type'] = whole_csv['wine_type_white']\n"
   ]
  },
  {
   "cell_type": "code",
   "execution_count": 44,
   "metadata": {},
   "outputs": [],
   "source": [
    "X_train, x_test, y_train, y_test = train_test_split( X_df, y_df, test_size = 0.2, random_state = 42)\n"
   ]
  },
  {
   "cell_type": "code",
   "execution_count": 52,
   "metadata": {},
   "outputs": [
    {
     "name": "stderr",
     "output_type": "stream",
     "text": [
      "/Users/barry/anaconda3/lib/python3.11/site-packages/sklearn/base.py:1152: DataConversionWarning: A column-vector y was passed when a 1d array was expected. Please change the shape of y to (n_samples,), for example using ravel().\n",
      "  return fit_method(estimator, *args, **kwargs)\n"
     ]
    },
    {
     "data": {
      "image/png": "[encoded data removed]",
      "text/plain": [
       "<Figure size 300x300 with 1 Axes>"
      ]
     },
     "metadata": {},
     "output_type": "display_data"
    },
    {
     "name": "stdout",
     "output_type": "stream",
     "text": [
      "              precision    recall  f1-score   support\n",
      "\n",
      "           0       0.67      0.73      0.70       403\n",
      "           1       0.77      0.73      0.75       626\n",
      "           2       0.09      0.09      0.09        35\n",
      "\n",
      "    accuracy                           0.71      1064\n",
      "   macro avg       0.51      0.51      0.51      1064\n",
      "weighted avg       0.71      0.71      0.71      1064\n",
      "\n"
     ]
    }
   ],
   "source": [
    "smote = SMOTE(random_state = 42)\n",
    "X_train_smote, y_train_smote = smote.fit_resample(X_train, y_train)\n",
    "parameters = {'bootstrap': True, 'max_depth': None, 'min_samples_split': 11, 'n_estimators': 200, 'class_weight': 'balanced', 'max_features': 4}\n",
    "\n",
    "rf_classifier = RandomForestClassifier(** parameters)\n",
    "rf_classifier.fit(X_train_smote, y_train_smote)\n",
    "y_pred = rf_classifier.predict(x_test)\n",
    "\n",
    "conf_matrix = confusion_matrix(y_test, y_pred)\n",
    "conf_matrix_df = pd.DataFrame(conf_matrix, index = ['low', 'medium', 'high'], columns = ['pred_low', 'pred_med', 'pred_high'])\n",
    "plt.figure(figsize = (3,3))\n",
    "sns.heatmap(conf_matrix_df, annot = True, cmap ='Blues', fmt= 'd', cbar= False)\n",
    "plt.show()\n",
    "print(classification_report(y_test, y_pred))\n",
    "\n"
   ]
  },
  {
   "cell_type": "code",
   "execution_count": 46,
   "metadata": {},
   "outputs": [],
   "source": [
    "# parameters = {'bootstrap': True, 'max_depth': None, 'min_samples_split': 11, 'n_estimators': 200, 'class_weight': 'balanced', 'max_features': 4}\n",
    "# rf_classifier = RandomForestClassifier(**parameters)\n",
    "\n",
    "# skf = StratifiedKFold(n_splits = 5, shuffle=True, random_state = 42)\n",
    "# y_pred = cross_val_predict(rf_classifier, X_train_smote, y_train_smote, cv=skf)\n",
    "# print(classification_report(y_train_smote, y_pred))\n",
    "# conf_matrix = confusion_matrix(y_train_smote, y_pred)\n",
    "# conf_matrix_df = pd.DataFrame(conf_matrix, index = ['low', 'medium', 'high'], columns = ['pred_low', 'pred_med', 'pred_high'])\n",
    "# plt.figure(figsize = (3,3))\n",
    "# sns.heatmap(conf_matrix_df, annot = True, cmap ='Blues', fmt= 'd', cbar= False)\n",
    "# plt.show()\n",
    "\n",
    "\n",
    "# rf_classifier.fit(X_train_smote, y_train_smote)\n",
    "# y_pred = rf_classifier.predict(x_test)\n",
    "# conf_matrix = confusion_matrix(y_test, y_pred)\n",
    "# conf_matrix_df = pd.DataFrame(conf_matrix, index = ['low', 'medium', 'high'], columns = ['pred_low', 'pred_med', 'pred_high'])\n",
    "# plt.figure(figsize = (3,3))\n",
    "# sns.heatmap(conf_matrix_df, annot = True, cmap ='Blues', fmt= 'd', cbar= False)\n",
    "# plt.show()\n",
    "# print(\"Classification Report:\")\n",
    "# print(classification_report(y_test, y_pred))\n"
   ]
  },
  {
   "cell_type": "code",
   "execution_count": 53,
   "metadata": {},
   "outputs": [
    {
     "data": {
      "text/html": [
       "<div>\n",
       "<style scoped>\n",
       "    .dataframe tbody tr th:only-of-type {\n",
       "        vertical-align: middle;\n",
       "    }\n",
       "\n",
       "    .dataframe tbody tr th {\n",
       "        vertical-align: top;\n",
       "    }\n",
       "\n",
       "    .dataframe thead th {\n",
       "        text-align: right;\n",
       "    }\n",
       "</style>\n",
       "<table border=\"1\" class=\"dataframe\">\n",
       "  <thead>\n",
       "    <tr style=\"text-align: right;\">\n",
       "      <th></th>\n",
       "      <th>fixed_acidity</th>\n",
       "      <th>volatile_acidity</th>\n",
       "      <th>citric_acid</th>\n",
       "      <th>residual_sugar</th>\n",
       "      <th>chlorides</th>\n",
       "      <th>free_sulfur_dioxide</th>\n",
       "      <th>total_sulfur_dioxide</th>\n",
       "      <th>density</th>\n",
       "      <th>pH</th>\n",
       "      <th>sulphates</th>\n",
       "      <th>alcohol</th>\n",
       "      <th>wine_type</th>\n",
       "    </tr>\n",
       "  </thead>\n",
       "  <tbody>\n",
       "    <tr>\n",
       "      <th>0</th>\n",
       "      <td>0.247934</td>\n",
       "      <td>0.086667</td>\n",
       "      <td>0.253012</td>\n",
       "      <td>0.009202</td>\n",
       "      <td>0.059801</td>\n",
       "      <td>0.079861</td>\n",
       "      <td>0.276498</td>\n",
       "      <td>0.100829</td>\n",
       "      <td>0.286822</td>\n",
       "      <td>0.365169</td>\n",
       "      <td>0.420290</td>\n",
       "      <td>1.0</td>\n",
       "    </tr>\n",
       "    <tr>\n",
       "      <th>1</th>\n",
       "      <td>0.305785</td>\n",
       "      <td>0.100000</td>\n",
       "      <td>0.409639</td>\n",
       "      <td>0.159509</td>\n",
       "      <td>0.063123</td>\n",
       "      <td>0.125000</td>\n",
       "      <td>0.292627</td>\n",
       "      <td>0.206092</td>\n",
       "      <td>0.209302</td>\n",
       "      <td>0.089888</td>\n",
       "      <td>0.115942</td>\n",
       "      <td>1.0</td>\n",
       "    </tr>\n",
       "    <tr>\n",
       "      <th>2</th>\n",
       "      <td>0.247934</td>\n",
       "      <td>0.146667</td>\n",
       "      <td>0.138554</td>\n",
       "      <td>0.061350</td>\n",
       "      <td>0.086379</td>\n",
       "      <td>0.171875</td>\n",
       "      <td>0.535714</td>\n",
       "      <td>0.167534</td>\n",
       "      <td>0.465116</td>\n",
       "      <td>0.213483</td>\n",
       "      <td>0.217391</td>\n",
       "      <td>1.0</td>\n",
       "    </tr>\n",
       "    <tr>\n",
       "      <th>3</th>\n",
       "      <td>0.132231</td>\n",
       "      <td>0.060000</td>\n",
       "      <td>0.162651</td>\n",
       "      <td>0.032209</td>\n",
       "      <td>0.066445</td>\n",
       "      <td>0.093750</td>\n",
       "      <td>0.225806</td>\n",
       "      <td>0.098901</td>\n",
       "      <td>0.573643</td>\n",
       "      <td>0.185393</td>\n",
       "      <td>0.333333</td>\n",
       "      <td>1.0</td>\n",
       "    </tr>\n",
       "    <tr>\n",
       "      <th>4</th>\n",
       "      <td>0.429752</td>\n",
       "      <td>0.253333</td>\n",
       "      <td>0.186747</td>\n",
       "      <td>0.033742</td>\n",
       "      <td>0.139535</td>\n",
       "      <td>0.062500</td>\n",
       "      <td>0.211982</td>\n",
       "      <td>0.212840</td>\n",
       "      <td>0.465116</td>\n",
       "      <td>0.230337</td>\n",
       "      <td>0.217391</td>\n",
       "      <td>0.0</td>\n",
       "    </tr>\n",
       "  </tbody>\n",
       "</table>\n",
       "</div>"
      ],
      "text/plain": [
       "   fixed_acidity  volatile_acidity  citric_acid  residual_sugar  chlorides  free_sulfur_dioxide  total_sulfur_dioxide   density        pH  sulphates   alcohol  wine_type\n",
       "0       0.247934          0.086667     0.253012        0.009202   0.059801             0.079861              0.276498  0.100829  0.286822   0.365169  0.420290        1.0\n",
       "1       0.305785          0.100000     0.409639        0.159509   0.063123             0.125000              0.292627  0.206092  0.209302   0.089888  0.115942        1.0\n",
       "2       0.247934          0.146667     0.138554        0.061350   0.086379             0.171875              0.535714  0.167534  0.465116   0.213483  0.217391        1.0\n",
       "3       0.132231          0.060000     0.162651        0.032209   0.066445             0.093750              0.225806  0.098901  0.573643   0.185393  0.333333        1.0\n",
       "4       0.429752          0.253333     0.186747        0.033742   0.139535             0.062500              0.211982  0.212840  0.465116   0.230337  0.217391        0.0"
      ]
     },
     "metadata": {},
     "output_type": "display_data"
    }
   ],
   "source": []
  }
 ],
 "metadata": {
  "kernelspec": {
   "display_name": "base",
   "language": "python",
   "name": "python3"
  },
  "language_info": {
   "codemirror_mode": {
    "name": "ipython",
    "version": 3
   },
   "file_extension": ".py",
   "mimetype": "text/x-python",
   "name": "python",
   "nbconvert_exporter": "python",
   "pygments_lexer": "ipython3",
   "version": "3.11.5"
  }
 },
 "nbformat": 4,
 "nbformat_minor": 2
}
