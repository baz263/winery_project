{
 "cells": [
  {
   "cell_type": "code",
   "execution_count": 154,
   "metadata": {},
   "outputs": [],
   "source": [
    "''' statements to import libraries'''\n",
    "import pandas as pd\n",
    "import numpy as np\n",
    "import matplotlib.pyplot as plt\n",
    "import seaborn as sns\n",
    "from IPython.display import display, HTML\n",
    "from scipy.stats import kurtosis\n",
    "from pandas.api.types import CategoricalDtype\n",
    "# from sklearn.preprocessing import OneHotEncoder\n",
    "# from sklearn.preprocessing import LabelBinarizer\n",
    "# from sklearn.preprocessing import train_test_split\n",
    "from sklearn.model_selection import train_test_split\n",
    "from sklearn.metrics import *\n",
    "from sklearn.preprocessing import OneHotEncoder\n",
    "pd.set_option('display.width', 1000)  # Set the maximum width of the display\n",
    "pd.set_option('display.max_columns', None)  # Display all columns without truncation\n"
   ]
  },
  {
   "cell_type": "code",
   "execution_count": 155,
   "metadata": {},
   "outputs": [],
   "source": [
    "'''statements to add csv files, remove duplicates etc. Just Red and white individually\n",
    "'''\n",
    "#White wine\n",
    "white_df = pd.read_csv('wine+quality/winequality-white.csv', sep= ';')\n",
    "white_copy = white_df.copy()\n",
    "white_copy.columns = white_copy.columns.str.replace(' ', '_')\n",
    "white_copy = white_copy.drop_duplicates()\n",
    "if 'colour' not in white_copy.columns:\n",
    "    white_copy['colour'] = 'white'\n",
    "else:\n",
    "    pass\n",
    "\n",
    "#Red wine\n",
    "red_df = pd.read_csv('wine+quality/winequality-red.csv', sep = ';')\n",
    "red_copy = red_df.copy()\n",
    "if 'colour' not in red_copy.columns:\n",
    "    red_copy['colour'] = 'red'\n",
    "else:pass\n",
    "red_copy.columns = red_copy.columns.str.replace(' ', '_')\n",
    "red_copy = red_copy.drop_duplicates()"
   ]
  },
  {
   "cell_type": "code",
   "execution_count": 156,
   "metadata": {},
   "outputs": [],
   "source": [
    "''' add new column to wine_quality\n",
    "low <= 5\n",
    "5 < medium < 7\n",
    "high >= 7\n",
    "'''\n",
    "if 'quality_label' not in white_copy.columns:\n",
    "    white_copy['quality_label'] = white_copy.quality.apply(lambda value: 'low' if value <= 5 else 'medium' if value <= 7 else 'high')\n",
    "else:\n",
    "    pass\n",
    "\n",
    "\n",
    "if 'quality_label' not in red_copy.columns:\n",
    "    red_copy['quality_label'] = red_copy.quality.apply(lambda value: 'low' if value <= 5 else 'medium' if value <= 7 else 'high')\n",
    "else:\n",
    "    pass\n",
    "\n",
    "\n",
    "'''add new Column wine_type'''\n",
    "if 'wine_type' not in white_copy.columns:\n",
    "    white_copy['wine_type'] = white_copy.quality.apply(lambda value: 'white')\n",
    "else:\n",
    "    pass\n",
    "if 'wine_type' not in red_copy.columns:\n",
    "    red_copy['wine_type'] = red_copy.quality.apply(lambda value: 'red')\n",
    "else:\n",
    "    pass\n",
    "\n"
   ]
  },
  {
   "cell_type": "code",
   "execution_count": 157,
   "metadata": {},
   "outputs": [],
   "source": [
    "'''making Good Medium Bad have a specified order'''\n",
    "category_order = ['low', 'medium', 'high']\n",
    "red_copy['quality_label'] = red_copy['quality_label'].astype(CategoricalDtype(categories=category_order, ordered=True))"
   ]
  },
  {
   "cell_type": "code",
   "execution_count": 158,
   "metadata": {},
   "outputs": [],
   "source": [
    "'''combining DFs and creating white_red_df'''\n",
    "\n",
    "white_red_df = pd.concat([white_copy, red_copy])\n",
    "white_red_copy = white_red_df.copy()"
   ]
  },
  {
   "cell_type": "code",
   "execution_count": 159,
   "metadata": {},
   "outputs": [
    {
     "data": {
      "image/png": "[encoded data removed]",
      "text/plain": [
       "<Figure size 300x300 with 1 Axes>"
      ]
     },
     "metadata": {},
     "output_type": "display_data"
    }
   ],
   "source": [
    "label_counts = white_red_df.quality_label.value_counts()\n",
    "plt.figure(figsize= (3,3))\n",
    "sns.set(style = 'whitegrid')\n",
    "plt.pie(label_counts, labels = label_counts.index, autopct = '%1.1f%%', startangle = 90)\n",
    "plt.title('Distribution of low, medium, hight')\n",
    "plt.show()"
   ]
  },
  {
   "cell_type": "code",
   "execution_count": 160,
   "metadata": {},
   "outputs": [
    {
     "data": {
      "text/html": [
       "<div>\n",
       "<style scoped>\n",
       "    .dataframe tbody tr th:only-of-type {\n",
       "        vertical-align: middle;\n",
       "    }\n",
       "\n",
       "    .dataframe tbody tr th {\n",
       "        vertical-align: top;\n",
       "    }\n",
       "\n",
       "    .dataframe thead th {\n",
       "        text-align: right;\n",
       "    }\n",
       "</style>\n",
       "<table border=\"1\" class=\"dataframe\">\n",
       "  <thead>\n",
       "    <tr style=\"text-align: right;\">\n",
       "      <th></th>\n",
       "      <th>fixed_acidity</th>\n",
       "      <th>volatile_acidity</th>\n",
       "      <th>citric_acid</th>\n",
       "      <th>residual_sugar</th>\n",
       "      <th>chlorides</th>\n",
       "      <th>free_sulfur_dioxide</th>\n",
       "      <th>total_sulfur_dioxide</th>\n",
       "      <th>density</th>\n",
       "      <th>pH</th>\n",
       "      <th>sulphates</th>\n",
       "      <th>alcohol</th>\n",
       "      <th>quality</th>\n",
       "      <th>colour</th>\n",
       "      <th>quality_label</th>\n",
       "      <th>wine_type_white</th>\n",
       "    </tr>\n",
       "  </thead>\n",
       "  <tbody>\n",
       "    <tr>\n",
       "      <th>0</th>\n",
       "      <td>7.0</td>\n",
       "      <td>0.27</td>\n",
       "      <td>0.36</td>\n",
       "      <td>20.7</td>\n",
       "      <td>0.045</td>\n",
       "      <td>45.0</td>\n",
       "      <td>170.0</td>\n",
       "      <td>1.0010</td>\n",
       "      <td>3.00</td>\n",
       "      <td>0.45</td>\n",
       "      <td>8.8</td>\n",
       "      <td>6</td>\n",
       "      <td>white</td>\n",
       "      <td>medium</td>\n",
       "      <td>1.0</td>\n",
       "    </tr>\n",
       "    <tr>\n",
       "      <th>1</th>\n",
       "      <td>6.3</td>\n",
       "      <td>0.30</td>\n",
       "      <td>0.34</td>\n",
       "      <td>1.6</td>\n",
       "      <td>0.049</td>\n",
       "      <td>14.0</td>\n",
       "      <td>132.0</td>\n",
       "      <td>0.9940</td>\n",
       "      <td>3.30</td>\n",
       "      <td>0.49</td>\n",
       "      <td>9.5</td>\n",
       "      <td>6</td>\n",
       "      <td>white</td>\n",
       "      <td>medium</td>\n",
       "      <td>1.0</td>\n",
       "    </tr>\n",
       "    <tr>\n",
       "      <th>2</th>\n",
       "      <td>8.1</td>\n",
       "      <td>0.28</td>\n",
       "      <td>0.40</td>\n",
       "      <td>6.9</td>\n",
       "      <td>0.050</td>\n",
       "      <td>30.0</td>\n",
       "      <td>97.0</td>\n",
       "      <td>0.9951</td>\n",
       "      <td>3.26</td>\n",
       "      <td>0.44</td>\n",
       "      <td>10.1</td>\n",
       "      <td>6</td>\n",
       "      <td>white</td>\n",
       "      <td>medium</td>\n",
       "      <td>1.0</td>\n",
       "    </tr>\n",
       "    <tr>\n",
       "      <th>3</th>\n",
       "      <td>7.2</td>\n",
       "      <td>0.23</td>\n",
       "      <td>0.32</td>\n",
       "      <td>8.5</td>\n",
       "      <td>0.058</td>\n",
       "      <td>47.0</td>\n",
       "      <td>186.0</td>\n",
       "      <td>0.9956</td>\n",
       "      <td>3.19</td>\n",
       "      <td>0.40</td>\n",
       "      <td>9.9</td>\n",
       "      <td>6</td>\n",
       "      <td>white</td>\n",
       "      <td>medium</td>\n",
       "      <td>1.0</td>\n",
       "    </tr>\n",
       "    <tr>\n",
       "      <th>6</th>\n",
       "      <td>6.2</td>\n",
       "      <td>0.32</td>\n",
       "      <td>0.16</td>\n",
       "      <td>7.0</td>\n",
       "      <td>0.045</td>\n",
       "      <td>30.0</td>\n",
       "      <td>136.0</td>\n",
       "      <td>0.9949</td>\n",
       "      <td>3.18</td>\n",
       "      <td>0.47</td>\n",
       "      <td>9.6</td>\n",
       "      <td>6</td>\n",
       "      <td>white</td>\n",
       "      <td>medium</td>\n",
       "      <td>1.0</td>\n",
       "    </tr>\n",
       "  </tbody>\n",
       "</table>\n",
       "</div>"
      ],
      "text/plain": [
       "   fixed_acidity  volatile_acidity  citric_acid  residual_sugar  chlorides  free_sulfur_dioxide  total_sulfur_dioxide  density    pH  sulphates  alcohol  quality colour quality_label  wine_type_white\n",
       "0            7.0              0.27         0.36            20.7      0.045                 45.0                 170.0   1.0010  3.00       0.45      8.8        6  white        medium              1.0\n",
       "1            6.3              0.30         0.34             1.6      0.049                 14.0                 132.0   0.9940  3.30       0.49      9.5        6  white        medium              1.0\n",
       "2            8.1              0.28         0.40             6.9      0.050                 30.0                  97.0   0.9951  3.26       0.44     10.1        6  white        medium              1.0\n",
       "3            7.2              0.23         0.32             8.5      0.058                 47.0                 186.0   0.9956  3.19       0.40      9.9        6  white        medium              1.0\n",
       "6            6.2              0.32         0.16             7.0      0.045                 30.0                 136.0   0.9949  3.18       0.47      9.6        6  white        medium              1.0"
      ]
     },
     "metadata": {},
     "output_type": "display_data"
    }
   ],
   "source": [
    "'''lets encode the wine colour data'''\n",
    "encoder = OneHotEncoder(handle_unknown= 'ignore', sparse_output= False).set_output(transform= 'pandas')\n",
    "\n",
    "colour_encoded_data = encoder.fit_transform(white_red_copy[['wine_type']])\n",
    "if 'wine_type' in white_red_copy.columns:\n",
    "    ml_df = pd.concat([white_red_copy, colour_encoded_data], axis= 1)\n",
    "#print(white_red_copy.columns)\n",
    "#ml_df = white_red_copy[['fixed_acidity', 'volatile_acidity', 'citric_acid', 'residual_sugar','chlorides', 'free_sulfur_dioxide', 'total_sulfur_dioxide', 'density',\n",
    "       #'pH', 'sulphates', 'alcohol', 'quality','wine_type_red']]\n",
    "if 'wine_type' in ml_df.columns:\n",
    "    ml_df.drop(val, axis=1, inplace= True)\n",
    "    ml_df.drop('wine_type_red', axis = 1, inplace = True)\n",
    "    #ml_df.drop(['quality', 'quality_label', 'colour'], axis=1, inplace= True)\n",
    "display (ml_df.head())"
   ]
  },
  {
   "cell_type": "code",
   "execution_count": 161,
   "metadata": {},
   "outputs": [
    {
     "name": "stdout",
     "output_type": "stream",
     "text": [
      "   fixed_acidity  volatile_acidity  citric_acid  residual_sugar  chlorides  free_sulfur_dioxide  total_sulfur_dioxide  density    pH  sulphates  alcohol  quality colour quality_label  wine_type_white  quality_label_encoded\n",
      "0            7.0              0.27         0.36            20.7      0.045                 45.0                 170.0   1.0010  3.00       0.45      8.8        6  white        medium              1.0                      2\n",
      "1            6.3              0.30         0.34             1.6      0.049                 14.0                 132.0   0.9940  3.30       0.49      9.5        6  white        medium              1.0                      2\n",
      "2            8.1              0.28         0.40             6.9      0.050                 30.0                  97.0   0.9951  3.26       0.44     10.1        6  white        medium              1.0                      2\n",
      "3            7.2              0.23         0.32             8.5      0.058                 47.0                 186.0   0.9956  3.19       0.40      9.9        6  white        medium              1.0                      2\n",
      "6            6.2              0.32         0.16             7.0      0.045                 30.0                 136.0   0.9949  3.18       0.47      9.6        6  white        medium              1.0                      2\n"
     ]
    }
   ],
   "source": [
    "''' lets use label encoder to encode the wine_quality\n",
    "we cannot use onehot encoder as that only does binary, dichotomous choices\n",
    "low 1\n",
    "medium 2\n",
    "high 0\n",
    "'''\n",
    "from sklearn.preprocessing import LabelEncoder\n",
    "le = LabelEncoder()\n",
    "ml_df['quality_label_encoded'] = le.fit_transform(ml_df['quality_label'])\n",
    "print(ml_df.head())\n",
    "\n"
   ]
  },
  {
   "cell_type": "code",
   "execution_count": 162,
   "metadata": {},
   "outputs": [
    {
     "data": {
      "text/html": [
       "<div>\n",
       "<style scoped>\n",
       "    .dataframe tbody tr th:only-of-type {\n",
       "        vertical-align: middle;\n",
       "    }\n",
       "\n",
       "    .dataframe tbody tr th {\n",
       "        vertical-align: top;\n",
       "    }\n",
       "\n",
       "    .dataframe thead th {\n",
       "        text-align: right;\n",
       "    }\n",
       "</style>\n",
       "<table border=\"1\" class=\"dataframe\">\n",
       "  <thead>\n",
       "    <tr style=\"text-align: right;\">\n",
       "      <th></th>\n",
       "      <th>fixed_acidity</th>\n",
       "      <th>volatile_acidity</th>\n",
       "      <th>citric_acid</th>\n",
       "      <th>residual_sugar</th>\n",
       "      <th>chlorides</th>\n",
       "      <th>free_sulfur_dioxide</th>\n",
       "      <th>total_sulfur_dioxide</th>\n",
       "      <th>density</th>\n",
       "      <th>pH</th>\n",
       "      <th>sulphates</th>\n",
       "      <th>alcohol</th>\n",
       "      <th>wine_type_white</th>\n",
       "      <th>quality_label_encoded</th>\n",
       "    </tr>\n",
       "  </thead>\n",
       "  <tbody>\n",
       "    <tr>\n",
       "      <th>0</th>\n",
       "      <td>7.0</td>\n",
       "      <td>0.27</td>\n",
       "      <td>0.36</td>\n",
       "      <td>20.7</td>\n",
       "      <td>0.045</td>\n",
       "      <td>45.0</td>\n",
       "      <td>170.0</td>\n",
       "      <td>1.0010</td>\n",
       "      <td>3.00</td>\n",
       "      <td>0.45</td>\n",
       "      <td>8.8</td>\n",
       "      <td>1.0</td>\n",
       "      <td>2</td>\n",
       "    </tr>\n",
       "    <tr>\n",
       "      <th>1</th>\n",
       "      <td>6.3</td>\n",
       "      <td>0.30</td>\n",
       "      <td>0.34</td>\n",
       "      <td>1.6</td>\n",
       "      <td>0.049</td>\n",
       "      <td>14.0</td>\n",
       "      <td>132.0</td>\n",
       "      <td>0.9940</td>\n",
       "      <td>3.30</td>\n",
       "      <td>0.49</td>\n",
       "      <td>9.5</td>\n",
       "      <td>1.0</td>\n",
       "      <td>2</td>\n",
       "    </tr>\n",
       "    <tr>\n",
       "      <th>2</th>\n",
       "      <td>8.1</td>\n",
       "      <td>0.28</td>\n",
       "      <td>0.40</td>\n",
       "      <td>6.9</td>\n",
       "      <td>0.050</td>\n",
       "      <td>30.0</td>\n",
       "      <td>97.0</td>\n",
       "      <td>0.9951</td>\n",
       "      <td>3.26</td>\n",
       "      <td>0.44</td>\n",
       "      <td>10.1</td>\n",
       "      <td>1.0</td>\n",
       "      <td>2</td>\n",
       "    </tr>\n",
       "    <tr>\n",
       "      <th>3</th>\n",
       "      <td>7.2</td>\n",
       "      <td>0.23</td>\n",
       "      <td>0.32</td>\n",
       "      <td>8.5</td>\n",
       "      <td>0.058</td>\n",
       "      <td>47.0</td>\n",
       "      <td>186.0</td>\n",
       "      <td>0.9956</td>\n",
       "      <td>3.19</td>\n",
       "      <td>0.40</td>\n",
       "      <td>9.9</td>\n",
       "      <td>1.0</td>\n",
       "      <td>2</td>\n",
       "    </tr>\n",
       "    <tr>\n",
       "      <th>6</th>\n",
       "      <td>6.2</td>\n",
       "      <td>0.32</td>\n",
       "      <td>0.16</td>\n",
       "      <td>7.0</td>\n",
       "      <td>0.045</td>\n",
       "      <td>30.0</td>\n",
       "      <td>136.0</td>\n",
       "      <td>0.9949</td>\n",
       "      <td>3.18</td>\n",
       "      <td>0.47</td>\n",
       "      <td>9.6</td>\n",
       "      <td>1.0</td>\n",
       "      <td>2</td>\n",
       "    </tr>\n",
       "  </tbody>\n",
       "</table>\n",
       "</div>"
      ],
      "text/plain": [
       "   fixed_acidity  volatile_acidity  citric_acid  residual_sugar  chlorides  free_sulfur_dioxide  total_sulfur_dioxide  density    pH  sulphates  alcohol  wine_type_white  quality_label_encoded\n",
       "0            7.0              0.27         0.36            20.7      0.045                 45.0                 170.0   1.0010  3.00       0.45      8.8              1.0                      2\n",
       "1            6.3              0.30         0.34             1.6      0.049                 14.0                 132.0   0.9940  3.30       0.49      9.5              1.0                      2\n",
       "2            8.1              0.28         0.40             6.9      0.050                 30.0                  97.0   0.9951  3.26       0.44     10.1              1.0                      2\n",
       "3            7.2              0.23         0.32             8.5      0.058                 47.0                 186.0   0.9956  3.19       0.40      9.9              1.0                      2\n",
       "6            6.2              0.32         0.16             7.0      0.045                 30.0                 136.0   0.9949  3.18       0.47      9.6              1.0                      2"
      ]
     },
     "metadata": {},
     "output_type": "display_data"
    }
   ],
   "source": [
    "''' drop other unwanted columns: quality_label, colour, quality'''\n",
    "for val in ['quality_label', 'colour', 'quality', 'wine_type']:\n",
    "    if val in ml_df.columns:\n",
    "        ml_df.drop(val, axis =1, inplace= True)\n",
    "display(ml_df.head())"
   ]
  },
  {
   "cell_type": "code",
   "execution_count": 163,
   "metadata": {},
   "outputs": [
    {
     "data": {
      "text/plain": [
       "(4256, 12)"
      ]
     },
     "metadata": {},
     "output_type": "display_data"
    },
    {
     "data": {
      "text/plain": [
       "(1064, 12)"
      ]
     },
     "metadata": {},
     "output_type": "display_data"
    },
    {
     "data": {
      "text/plain": [
       "(4256, 1)"
      ]
     },
     "metadata": {},
     "output_type": "display_data"
    },
    {
     "data": {
      "text/plain": [
       "(1064, 1)"
      ]
     },
     "metadata": {},
     "output_type": "display_data"
    }
   ],
   "source": [
    "''' split the data'''\n",
    "X_train, x_test, Y_train, y_test = train_test_split( ml_df.iloc[:,:-1],ml_df.iloc[:, -1:], test_size = 0.2, random_state = 42)\n",
    "display(X_train.shape)\n",
    "display(x_test.shape)\n",
    "display(Y_train.shape)\n",
    "display(y_test.shape)\n"
   ]
  },
  {
   "cell_type": "code",
   "execution_count": 164,
   "metadata": {},
   "outputs": [],
   "source": [
    "def log_regress(X_train, Y_train, x_test, y_test, graph):\n",
    "    from sklearn.linear_model import LogisticRegression\n",
    "    from sklearn.metrics import confusion_matrix\n",
    "    from sklearn.metrics import accuracy_score\n",
    "    Y_train = np.ravel(Y_train)\n",
    "    y_test = np.ravel(y_test)\n",
    "    lr = LogisticRegression(random_state = 42, max_iter = 10000, multi_class= 'multinomial')\n",
    "    lr.fit(X_train, Y_train)\n",
    "    pred_lr = lr.predict(x_test)\n",
    "    confu_mat = confusion_matrix(y_test, pred_lr)\n",
    "    accuracy_percentage = round(accuracy_score(y_test, pred_lr) * 100,2)\n",
    "    #print(\"Accuracy of Logistic Regression:\", accuracy_percentage, \"%\")\n",
    "    \n",
    "#printing a graph of the heatmap\n",
    "    if graph == True:\n",
    "        sns.heatmap(confu_mat, annot=True, fmt= 'g', cmap = 'Blues')\n",
    "        plt.suptitle('Logistic Regression Confusion Map')        \n",
    "        plt.show()\n",
    "    #rint('________________')\n",
    "    return accuracy_percentage\n"
   ]
  },
  {
   "cell_type": "code",
   "execution_count": 165,
   "metadata": {},
   "outputs": [],
   "source": [
    "'''neighbours classifier''' \n",
    "def neigh_class(X_train, Y_train, x_test, y_test, graph):\n",
    "    Y_train = np.ravel(Y_train)\n",
    "    y_test = np.ravel(y_test)\n",
    "    from sklearn.neighbors import KNeighborsClassifier\n",
    "    knn = KNeighborsClassifier(n_neighbors = 5, metric = 'minkowski', p = 2)\n",
    "    knn.fit(X_train, Y_train)\n",
    "    accuracy_percentage = (knn.score(x_test, y_test) * 100).round(2)\n",
    "    #print(\"Accuracy of Neighbours Classifier:\", accuracy_percentage, \"%\")\n",
    "    pred_neighbours = knn.predict(x_test)\n",
    "    confu_mat = confusion_matrix(y_test, pred_neighbours)    \n",
    "    if graph == True:\n",
    "        sns.heatmap(confu_mat, annot=True, fmt= 'g', cmap = 'Blues')\n",
    "        plt.suptitle('Random Forest Confusion Map')\n",
    "        plt.show()\n",
    "    #print('________________')\n",
    "    return accuracy_percentage\n",
    "\n"
   ]
  },
  {
   "cell_type": "code",
   "execution_count": 166,
   "metadata": {},
   "outputs": [],
   "source": [
    "'''decision tree'''\n",
    "def dec_tree(X_train, Y_train, x_test, y_test, graph):\n",
    "    Y_train = np.ravel(Y_train)\n",
    "    y_test = np.ravel(y_test)\n",
    "    from sklearn.tree import DecisionTreeClassifier\n",
    "    tree = DecisionTreeClassifier(criterion = 'entropy', random_state = 0)\n",
    "    tree.fit(X_train, Y_train)\n",
    "    accuracy_percentage = (tree.score(x_test, y_test) * 100).round(2)\n",
    "    #print(\"Accuracy of Decision Tree:\", accuracy_percentage, \"%\")\n",
    "    pred_tree = tree.predict(x_test)\n",
    "    confu_mat = confusion_matrix(y_test, pred_tree)\n",
    "    plt.show()\n",
    "    if graph == True:\n",
    "        sns.heatmap(confu_mat, annot=True, fmt= 'g', cmap = 'Blues')\n",
    "        plt.suptitle('Decision Tree Confusion Map')\n",
    "        plt.show()\n",
    "    \n",
    "    #print('________________')\n",
    "    return accuracy_percentage\n",
    "\n"
   ]
  },
  {
   "cell_type": "code",
   "execution_count": 167,
   "metadata": {},
   "outputs": [],
   "source": [
    "'''random forest'''\n",
    "def ran_forest(X_train, Y_train, x_test, y_test, graph) :\n",
    "    from sklearn.ensemble import RandomForestClassifier\n",
    "    Y_train = np.ravel(Y_train)\n",
    "    y_test = np.ravel(y_test)\n",
    "    forest = RandomForestClassifier(n_estimators = 10, criterion = 'entropy', random_state = 10)\n",
    "    forest.fit(X_train, Y_train)\n",
    "    accuracy_percentage = (forest.score(x_test, y_test) * 100).round(2)\n",
    "    pred_forest = forest.predict(x_test)\n",
    "    confu_mat = confusion_matrix(y_test, pred_forest)\n",
    "    \n",
    "    #print(\"Accuracy of Random Forest:\", accuracy_percentage, \"%\")    \n",
    "    if graph == True:\n",
    "        sns.heatmap(confu_mat, annot=True, fmt= 'g', cmap = 'Blues')\n",
    "        plt.suptitle('Random Forest Confusion Map')\n",
    "        plt.show()\n",
    "    #print('________________')\n",
    "    return accuracy_percentage\n",
    "\n"
   ]
  },
  {
   "cell_type": "code",
   "execution_count": 168,
   "metadata": {},
   "outputs": [],
   "source": [
    "'''Linear regression'''\n",
    "def lin_reg(X_train, Y_train, x_test, y_test):\n",
    "    Y_train = np.ravel(Y_train)\n",
    "    y_test = np.ravel(y_test)\n",
    "    from sklearn import linear_model\n",
    "    linreg = linear_model.LinearRegression()\n",
    "    linreg.fit(X_train, Y_train)\n",
    "    accuracy_percentage = (linreg.score(x_test, y_test) * 100).round(2)\n",
    "    pred_linreg = linreg.predict(x_test)\n",
    "\n",
    "    #print(\"Accuracy of Linear Regression:\", accuracy_percentage, \"%\")\n",
    "    #print('________________')\n",
    "    return accuracy_percentage\n",
    "\n",
    "\n"
   ]
  },
  {
   "cell_type": "code",
   "execution_count": 169,
   "metadata": {},
   "outputs": [
    {
     "data": {
      "text/html": [
       "<div>\n",
       "<style scoped>\n",
       "    .dataframe tbody tr th:only-of-type {\n",
       "        vertical-align: middle;\n",
       "    }\n",
       "\n",
       "    .dataframe tbody tr th {\n",
       "        vertical-align: top;\n",
       "    }\n",
       "\n",
       "    .dataframe thead th {\n",
       "        text-align: right;\n",
       "    }\n",
       "</style>\n",
       "<table border=\"1\" class=\"dataframe\">\n",
       "  <thead>\n",
       "    <tr style=\"text-align: right;\">\n",
       "      <th></th>\n",
       "      <th>all_variables</th>\n",
       "    </tr>\n",
       "  </thead>\n",
       "  <tbody>\n",
       "    <tr>\n",
       "      <th>Logistic Regression</th>\n",
       "      <td>71.15</td>\n",
       "    </tr>\n",
       "    <tr>\n",
       "      <th>Linear Regression</th>\n",
       "      <td>11.04</td>\n",
       "    </tr>\n",
       "    <tr>\n",
       "      <th>Neighbours Classifier</th>\n",
       "      <td>62.22</td>\n",
       "    </tr>\n",
       "    <tr>\n",
       "      <th>Decision Tree</th>\n",
       "      <td>65.13</td>\n",
       "    </tr>\n",
       "    <tr>\n",
       "      <th>Random Forest</th>\n",
       "      <td>71.43</td>\n",
       "    </tr>\n",
       "  </tbody>\n",
       "</table>\n",
       "</div>"
      ],
      "text/plain": [
       "                       all_variables\n",
       "Logistic Regression            71.15\n",
       "Linear Regression              11.04\n",
       "Neighbours Classifier          62.22\n",
       "Decision Tree                  65.13\n",
       "Random Forest                  71.43"
      ]
     },
     "metadata": {},
     "output_type": "display_data"
    }
   ],
   "source": [
    "index_names = ['Logistic Regression', 'Linear Regression', 'Neighbours Classifier', 'Decision Tree', 'Random Forest']\n",
    "comparison_df = pd.DataFrame(index=index_names)\n",
    "#ml_df = ml_df.drop(['quality'], axis = 1)X_train, x_test, Y_train, y_test = train_test_split( ml_df.iloc[:,:-1],ml_df.iloc[:, -1:], test_size = 0.2, random_state = 42)\n",
    "\n",
    "comparison_df['all_variables'] = [log_regress(X_train, Y_train, x_test, y_test, False),\n",
    "lin_reg(X_train, Y_train, x_test, y_test),\n",
    "neigh_class(X_train, Y_train, x_test, y_test, False),\n",
    "dec_tree(X_train, Y_train, x_test, y_test, False),\n",
    "ran_forest(X_train, Y_train, x_test, y_test, False)]\n",
    "display(comparison_df)"
   ]
  },
  {
   "cell_type": "code",
   "execution_count": 185,
   "metadata": {},
   "outputs": [
    {
     "data": {
      "text/plain": [
       "pH                      0.020552\n",
       "free_sulfur_dioxide     0.023017\n",
       "fixed_acidity           0.033533\n",
       "residual_sugar          0.035080\n",
       "total_sulfur_dioxide    0.039732\n",
       "sulphates               0.042461\n",
       "citric_acid             0.059817\n",
       "wine_type_white         0.068925\n",
       "chlorides               0.117304\n",
       "density                 0.166917\n",
       "volatile_acidity        0.211626\n",
       "alcohol                 0.243506\n",
       "Name: quality_label_encoded, dtype: float64"
      ]
     },
     "metadata": {},
     "output_type": "display_data"
    },
    {
     "name": "stdout",
     "output_type": "stream",
     "text": [
      "Index(['pH', 'free_sulfur_dioxide', 'fixed_acidity', 'residual_sugar', 'total_sulfur_dioxide', 'sulphates', 'citric_acid', 'wine_type_white', 'chlorides', 'density', 'volatile_acidity', 'alcohol'], dtype='object')\n"
     ]
    },
    {
     "data": {
      "text/plain": [
       "Index(['pH', 'free_sulfur_dioxide', 'fixed_acidity', 'residual_sugar', 'total_sulfur_dioxide', 'sulphates', 'citric_acid', 'wine_type_white', 'chlorides', 'density', 'volatile_acidity', 'alcohol'], dtype='object')"
      ]
     },
     "metadata": {},
     "output_type": "display_data"
    }
   ],
   "source": [
    "''' create a correlation matrix between quality_label and the other variables\n",
    "then save it as a sorted list where the names are in order\n",
    "sorted list of \n",
    "\n",
    "'''\n",
    "corr = ml_df.corr()\n",
    "corr_list = corr['quality_label_encoded'][:-1]\n",
    "\n",
    "corr_list = corr_list.apply(lambda x: abs(x))\n",
    "corr_list = corr_list.sort_values()\n",
    "corr_list_names = corr_list.index\n"
   ]
  },
  {
   "cell_type": "code",
   "execution_count": 187,
   "metadata": {},
   "outputs": [
    {
     "data": {
      "text/html": [
       "<div>\n",
       "<style scoped>\n",
       "    .dataframe tbody tr th:only-of-type {\n",
       "        vertical-align: middle;\n",
       "    }\n",
       "\n",
       "    .dataframe tbody tr th {\n",
       "        vertical-align: top;\n",
       "    }\n",
       "\n",
       "    .dataframe thead th {\n",
       "        text-align: right;\n",
       "    }\n",
       "</style>\n",
       "<table border=\"1\" class=\"dataframe\">\n",
       "  <thead>\n",
       "    <tr style=\"text-align: right;\">\n",
       "      <th></th>\n",
       "      <th>all</th>\n",
       "    </tr>\n",
       "  </thead>\n",
       "  <tbody>\n",
       "    <tr>\n",
       "      <th>Logistic Regression</th>\n",
       "      <td>71.15</td>\n",
       "    </tr>\n",
       "    <tr>\n",
       "      <th>Linear Regression</th>\n",
       "      <td>11.04</td>\n",
       "    </tr>\n",
       "    <tr>\n",
       "      <th>Neighbours Classifier</th>\n",
       "      <td>62.22</td>\n",
       "    </tr>\n",
       "    <tr>\n",
       "      <th>Decision Tree</th>\n",
       "      <td>65.13</td>\n",
       "    </tr>\n",
       "    <tr>\n",
       "      <th>Random Forest</th>\n",
       "      <td>71.43</td>\n",
       "    </tr>\n",
       "  </tbody>\n",
       "</table>\n",
       "</div>"
      ],
      "text/plain": [
       "                         all\n",
       "Logistic Regression    71.15\n",
       "Linear Regression      11.04\n",
       "Neighbours Classifier  62.22\n",
       "Decision Tree          65.13\n",
       "Random Forest          71.43"
      ]
     },
     "metadata": {},
     "output_type": "display_data"
    }
   ],
   "source": [
    "'''create my DF showing the results of my algorithms. WE will start with all columsn'''\n",
    "comparison_df = pd.DataFrame(index=index_names)\n",
    "comparison_df['all'] = [log_regress(X_train, Y_train, x_test, y_test, False),\n",
    "lin_reg(X_train, Y_train, x_test, y_test),\n",
    "neigh_class(X_train, Y_train, x_test, y_test, False),\n",
    "dec_tree(X_train, Y_train, x_test, y_test, False),\n",
    "ran_forest(X_train, Y_train, x_test, y_test, False)]\n",
    "display(comparison_df)\n",
    "f\n",
    "or val in corr_list_names:\n",
    "    pass\n"
   ]
  },
  {
   "cell_type": "markdown",
   "metadata": {},
   "source": []
  },
  {
   "cell_type": "code",
   "execution_count": null,
   "metadata": {},
   "outputs": [],
   "source": [
    "''' using a for loop we will remove one column at a time based on the columns correlation with our target depenedent variable\n",
    "using our '''"
   ]
  }
 ],
 "metadata": {
  "kernelspec": {
   "display_name": "base",
   "language": "python",
   "name": "python3"
  },
  "language_info": {
   "codemirror_mode": {
    "name": "ipython",
    "version": 3
   },
   "file_extension": ".py",
   "mimetype": "text/x-python",
   "name": "python",
   "nbconvert_exporter": "python",
   "pygments_lexer": "ipython3",
   "version": "3.11.5"
  }
 },
 "nbformat": 4,
 "nbformat_minor": 2
}
